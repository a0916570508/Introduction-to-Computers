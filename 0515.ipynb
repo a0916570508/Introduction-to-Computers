{
  "nbformat": 4,
  "nbformat_minor": 0,
  "metadata": {
    "colab": {
      "provenance": [],
      "authorship_tag": "ABX9TyPnkxfudBYscTiLk39+ooEw",
      "include_colab_link": true
    },
    "kernelspec": {
      "name": "python3",
      "display_name": "Python 3"
    },
    "language_info": {
      "name": "python"
    }
  },
  "cells": [
    {
      "cell_type": "markdown",
      "metadata": {
        "id": "view-in-github",
        "colab_type": "text"
      },
      "source": [
        "<a href=\"https://colab.research.google.com/github/a0916570508/Introduction-to-Computers/blob/main/0515.ipynb\" target=\"_parent\"><img src=\"https://colab.research.google.com/assets/colab-badge.svg\" alt=\"Open In Colab\"/></a>"
      ]
    },
    {
      "cell_type": "code",
      "source": [
        "rain = input(\"今天會下雨嗎?: \")\n",
        "\n",
        "if rain == \"Y\" or rain == \"y\":\n",
        "    print('出門記得帶傘!')\n",
        "elif rain == \"N\" or rain == \"n\":\n",
        "    print('不用帶傘!')\n",
        "else:\n",
        "    print('請重新輸入')\n"
      ],
      "metadata": {
        "colab": {
          "base_uri": "https://localhost:8080/"
        },
        "id": "m2gM6k02bKb8",
        "outputId": "4592f265-cf8e-4ac0-c50b-41c311daab77"
      },
      "execution_count": 17,
      "outputs": [
        {
          "output_type": "stream",
          "name": "stdout",
          "text": [
            "今天會下雨嗎?: Y\n",
            "出門記得帶傘!\n"
          ]
        }
      ]
    },
    {
      "cell_type": "code",
      "source": [
        "temperature = float(input(\"請輸入您的體溫：\"))\n",
        "\n",
        "if temperature >= 37.5:\n",
        "    print('體溫過高!')\n",
        "elif 37.4 >= temperature >= 37:\n",
        "    print('體溫略高!')\n",
        "elif 34 <= temperature <= 36.9:\n",
        "    print('體溫正常!')\n",
        "elif temperature < 34:\n",
        "    print('體溫異常，請重新量測!')\n",
        "else:\n",
        "    print('輸入無效')\n"
      ],
      "metadata": {
        "colab": {
          "base_uri": "https://localhost:8080/"
        },
        "id": "cbQPRJ-jVfPE",
        "outputId": "024c5bb5-24d4-4701-d31a-3f126884c4eb"
      },
      "execution_count": 18,
      "outputs": [
        {
          "output_type": "stream",
          "name": "stdout",
          "text": [
            "請輸入您的體溫：37.8\n",
            "體溫過高!\n"
          ]
        }
      ]
    },
    {
      "cell_type": "code",
      "source": [
        "score = int(input(\"請輸入您的成績：\"))\n",
        "\n",
        "if score >= 90:\n",
        "    print('A')\n",
        "elif 80 <= score <= 89:\n",
        "    print('B')\n",
        "elif 70 <= score <= 79:\n",
        "    print('C')\n",
        "elif 60 <= score <= 69:\n",
        "    print('D')\n",
        "else:\n",
        "    print('E')\n"
      ],
      "metadata": {
        "colab": {
          "base_uri": "https://localhost:8080/"
        },
        "id": "vZUUzpwPTY_j",
        "outputId": "080ab5bc-837d-47f5-b710-b486dbb84feb"
      },
      "execution_count": 19,
      "outputs": [
        {
          "output_type": "stream",
          "name": "stdout",
          "text": [
            "請輸入您的成績：30\n",
            "E\n"
          ]
        }
      ]
    },
    {
      "cell_type": "code",
      "source": [
        "month = int(input(\"請輸入月份：\"))\n",
        "\n",
        "if month in [3, 4, 5]:\n",
        "    print(f\"{month}月是春天!\")\n",
        "elif month in [6, 7, 8]:\n",
        "    print(f\"{month}月是夏天!\")\n",
        "elif month in [9, 10, 11]:\n",
        "    print(f\"{month}月是秋天!\")\n",
        "elif month in [12, 1, 2]:\n",
        "    print(f\"{month}月是冬天!\")\n",
        "else:\n",
        "    print(\"月份不在範圍內!\")\n"
      ],
      "metadata": {
        "colab": {
          "base_uri": "https://localhost:8080/"
        },
        "id": "j-qeV7tudPwR",
        "outputId": "82c60770-00c3-4244-addf-652b3012f68c"
      },
      "execution_count": 20,
      "outputs": [
        {
          "output_type": "stream",
          "name": "stdout",
          "text": [
            "請輸入月份：14\n",
            "月份不在範圍內!\n"
          ]
        }
      ]
    },
    {
      "cell_type": "code",
      "source": [
        "income = int(input(\"請輸入您的收入：\"))\n",
        "\n",
        "if income >= 2000000:\n",
        "    tax_rate = 0.3\n",
        "elif income >= 1000000:\n",
        "    tax_rate = 0.21\n",
        "elif income >= 600000:\n",
        "    tax_rate = 0.13\n",
        "elif income >= 300000:\n",
        "    tax_rate = 0.06\n",
        "else:\n",
        "    tax_rate = 0\n",
        "\n",
        "tax_amount = income * tax_rate\n",
        "\n",
        "print(\"應繳稅金金額：\", tax_amount)\n"
      ],
      "metadata": {
        "colab": {
          "base_uri": "https://localhost:8080/"
        },
        "id": "pOV_PPnAdkIe",
        "outputId": "bd44d549-d3d2-4245-ed3e-ba1131c44557"
      },
      "execution_count": 21,
      "outputs": [
        {
          "output_type": "stream",
          "name": "stdout",
          "text": [
            "請輸入您的收入：950000\n",
            "應繳稅金金額： 123500.0\n"
          ]
        }
      ]
    }
  ]
}